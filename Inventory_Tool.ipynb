{
 "cells": [
  {
   "cell_type": "markdown",
   "id": "7492cf8d",
   "metadata": {},
   "source": [
    "# Miranda's Gifts - Inventory Planning Tool"
   ]
  },
  {
   "cell_type": "code",
   "execution_count": 1,
   "id": "2884bee3",
   "metadata": {},
   "outputs": [],
   "source": [
    "# import necessary libraries and files\n",
    "\n",
    "%matplotlib inline\n",
    "import matplotlib\n",
    "import matplotlib.pyplot as plt\n",
    "import numpy as np\n",
    "import pandas as pd\n",
    "import ipywidgets as widgets\n",
    "import seaborn as sns\n",
    "from IPython.display import display\n",
    "\n",
    "\n",
    "from sklearn.ensemble import RandomForestRegressor\n",
    "from sklearn.model_selection import train_test_split\n",
    "from sklearn.metrics import mean_absolute_error"
   ]
  },
  {
   "cell_type": "code",
   "execution_count": 2,
   "id": "25c2a22a",
   "metadata": {},
   "outputs": [],
   "source": [
    "csv_file = 'sales_history.csv'\n",
    "\n",
    "# bring in a copy of the data for use with graphs\n",
    "graph_df = pd.read_csv(csv_file)\n",
    "\n",
    "# bring in a copy of data for use with ML algorithm\n",
    "sales_df = pd.read_csv(csv_file)\n",
    "\n",
    "# the maximum units sold in any one month is needed for consistency among vizulaizations\n",
    "y_max = 50 # todo... sales_df.to_numpy().max() + 5"
   ]
  },
  {
   "cell_type": "markdown",
   "id": "640a2564",
   "metadata": {},
   "source": [
    "## Sales History\n",
    "Use the following drop down menu to select a year and view the sales history for that year."
   ]
  },
  {
   "cell_type": "code",
   "execution_count": 3,
   "id": "56f70fae",
   "metadata": {},
   "outputs": [
    {
     "data": {
      "application/vnd.jupyter.widget-view+json": {
       "model_id": "19349915b36a4e36a67705896c82682d",
       "version_major": 2,
       "version_minor": 0
      },
      "text/plain": [
       "interactive(children=(Dropdown(description='Year', options=(2013, 2014, 2015, 2016, 2017, 2018, 2019, 2020, 20…"
      ]
     },
     "metadata": {},
     "output_type": "display_data"
    }
   ],
   "source": [
    "## build single year graph ##\n",
    "\n",
    "def sort_year(Year):\n",
    "    df = graph_df.loc[graph_df['year'] == Year]\n",
    "    \n",
    "    sns.set(rc={'figure.figsize':(15,10)}, font_scale=1.2)\n",
    "    \n",
    "    ax = sns.lineplot(data=df.iloc[:, 2:], dashes=False).set(\n",
    "        title=f\"Units Sold Per Month in {Year} for All Items\",\n",
    "        xlabel=\"Month\", ylabel=\"Units Sold\")\n",
    "    \n",
    "    plt.legend(loc='upper left', title=\"Item Number\")\n",
    "    plt.ylim(0, y_max);\n",
    "\n",
    "year_list = np.unique(graph_df['year'])\n",
    "\n",
    "widgets.interact(sort_year, Year=year_list);"
   ]
  },
  {
   "cell_type": "markdown",
   "id": "e75b3d71",
   "metadata": {},
   "source": [
    "# Individual Item Information\n",
    "Use the two boxes below to select an item and a year. Exact montly unit sales for the selected item throughout the selected year will be shown."
   ]
  },
  {
   "cell_type": "code",
   "execution_count": 4,
   "id": "65982bbb",
   "metadata": {},
   "outputs": [
    {
     "data": {
      "application/vnd.jupyter.widget-view+json": {
       "model_id": "bc0903b541164656b62a02c5c416a422",
       "version_major": 2,
       "version_minor": 0
      },
      "text/plain": [
       "HBox(children=(Dropdown(options=('1', '2', '3', '4', '5', '6', '7', '8', '9', '10', '11', '12', '13', '14', '1…"
      ]
     },
     "metadata": {},
     "output_type": "display_data"
    },
    {
     "data": {
      "application/vnd.jupyter.widget-view+json": {
       "model_id": "c7bf3a7a49784a1996a5a8b357f8ee65",
       "version_major": 2,
       "version_minor": 0
      },
      "text/plain": [
       "Output()"
      ]
     },
     "metadata": {},
     "output_type": "display_data"
    }
   ],
   "source": [
    "## build single item/year graph ##\n",
    "\n",
    "year_list = np.unique(graph_df['year'])\n",
    "item_list = graph_df.columns.tolist()[2::]\n",
    "\n",
    "Year = widgets.Dropdown(options = year_list)\n",
    "Item = widgets.Dropdown(options = item_list)\n",
    "ui = widgets.HBox([Item, Year])\n",
    "\n",
    "def sort_year_item(Year, Item):\n",
    "    df = graph_df[[\"year\", \"month\", Item]].loc[graph_df['year'] == Year]\n",
    "    \n",
    "    sns.set(rc={'figure.figsize':(15,10)}, font_scale=1.2)\n",
    "    \n",
    "    ax = sns.barplot(x=\"month\", y=Item, data=df)\n",
    "    ax.bar_label(ax.containers[0])\n",
    "    ax.set(\n",
    "        title=f\"Units Sold Per Month in {Year} for Item # {Item}\",\n",
    "        xlabel=\"Month\", ylabel=\"Units Sold\")\n",
    "    plt.ylim(0, y_max);\n",
    "    \n",
    "\n",
    "out = widgets.interactive_output(sort_year_item, {'Item' : Item, 'Year' : Year})\n",
    "\n",
    "display(ui, out)"
   ]
  },
  {
   "cell_type": "markdown",
   "id": "a2ab3061",
   "metadata": {},
   "source": [
    "# Sales Prediction\n",
    "The following chart shows the projected sales for next month, as well as the sales history from last month.\n",
    "It will update automatically as data is added the .csv file."
   ]
  },
  {
   "cell_type": "code",
   "execution_count": 5,
   "id": "42cec6a5",
   "metadata": {},
   "outputs": [],
   "source": [
    "## prepare the sales_df data ##\n",
    "\n",
    "# convert month and year columns into one date column, then move it to the leftmost column\n",
    "sales_df[\"date\"] = sales_df['month'] +\"_\"+ sales_df['year'].astype(str)\n",
    "move = sales_df.pop(\"date\") # holds the date column so it can be moved\n",
    "sales_df.insert(0, \"date\", move)\n",
    "sales_df.drop([\"month\", \"year\"], axis=1, inplace=True)"
   ]
  },
  {
   "cell_type": "code",
   "execution_count": 6,
   "id": "14521cab",
   "metadata": {},
   "outputs": [],
   "source": [
    "## methods for ml algorithm ##\n",
    "\n",
    "# transform data into supervised learning\n",
    "def build_item_df(data, item, months):\n",
    "    df = pd.DataFrame()\n",
    "    df[\"this_month\"] = data[[str(item)]].copy(deep=True)\n",
    "    \n",
    "    # build sales history based on number of previous months\n",
    "    for i in range (1, months + 1):\n",
    "        col_name = str(i) + \"_months_ago\"\n",
    "        df[col_name] = df[\"this_month\"].shift(i)\n",
    "    \n",
    "    df.dropna(inplace=True)\n",
    "    df = df.iloc[:, ::-1]\n",
    "    \n",
    "    return df\n",
    "\n",
    "# train and test a model, then return the score\n",
    "def test_model(data, item, months):\n",
    "    np.random.seed(11)\n",
    "    \n",
    "    # bring in data\n",
    "    supervised_data = build_item_df(data, item, months)    \n",
    "    \n",
    "    X = supervised_data.iloc[:,:-1] # final column removed\n",
    "    y = supervised_data.iloc[:,-1:].to_numpy().ravel() # final column only\n",
    "\n",
    "    # split\n",
    "    X_train, X_test, y_train, y_test = train_test_split(X, y, test_size=0.2)\n",
    "\n",
    "    # instantiate and fit the model\n",
    "    model = RandomForestRegressor(n_estimators=100, max_depth=20)\n",
    "    model.fit(X_train, y_train)\n",
    "    y_preds = model.predict(X_test)\n",
    "\n",
    "    #check the score and mae of the model\n",
    "    mae = mean_absolute_error(y_test, y_preds)\n",
    "    \n",
    "    return mae\n",
    "\n",
    "# make predictions for each item, for upcoming month, and store in an array\n",
    "def make_preds(data, months):\n",
    "    preds = []\n",
    "    item_qty = len(data.columns) - 1 # subract 1 to account for date column\n",
    "\n",
    "    i=1\n",
    "    while i <= item_qty:\n",
    "        # print(item_qty - i) # print i if time remaining is wanted\n",
    "        supervised_data = build_item_df(data, i, months)\n",
    "\n",
    "        # prepare new data from supervised_data, last column is NaN but will be sliced off\n",
    "        new_data = pd.DataFrame(supervised_data.iloc[-1]).transpose().shift(-1, axis=\"columns\")\n",
    "        \n",
    "        # adjust data further for fitting\n",
    "        model_data_X = supervised_data.iloc[:,:-1] # final column removed\n",
    "        model_data_y = supervised_data.iloc[:,-1:].to_numpy().ravel() # final column only\n",
    "        model_data_new = new_data.iloc[:,:-1] # final row shifted left with final column (NaN) removed\n",
    "\n",
    "        # fit model to data\n",
    "        model = RandomForestRegressor(n_estimators=100, max_depth=20)\n",
    "        model.fit(model_data_X, model_data_y)\n",
    "        \n",
    "        # store prediction in array\n",
    "        preds.append(model.predict(model_data_new))\n",
    "        \n",
    "        # do not forget to increment i :)\n",
    "        i += 1\n",
    "        \n",
    "    preds = np.concatenate(preds, axis=None)\n",
    "    return preds"
   ]
  },
  {
   "cell_type": "code",
   "execution_count": 7,
   "id": "c6874811",
   "metadata": {},
   "outputs": [],
   "source": [
    "# test_model(sales_df, 1, 25) # hide test results unless testing is occuring"
   ]
  },
  {
   "cell_type": "code",
   "execution_count": 8,
   "id": "13af7a9e",
   "metadata": {},
   "outputs": [],
   "source": [
    "## make prediction ##\n",
    "\n",
    "# run prediction function, using the last 12 months as features\n",
    "preds = make_preds(sales_df, 12)"
   ]
  },
  {
   "cell_type": "code",
   "execution_count": 9,
   "id": "81108d44",
   "metadata": {},
   "outputs": [
    {
     "data": {
      "text/html": [
       "<style type=\"text/css\">\n",
       "</style>\n",
       "<table id=\"T_9ce41\">\n",
       "  <thead>\n",
       "    <tr>\n",
       "      <th id=\"T_9ce41_level0_col0\" class=\"col_heading level0 col0\" >Item Number</th>\n",
       "      <th id=\"T_9ce41_level0_col1\" class=\"col_heading level0 col1\" >December_2022 Sales</th>\n",
       "      <th id=\"T_9ce41_level0_col2\" class=\"col_heading level0 col2\" >Next Month Projected</th>\n",
       "    </tr>\n",
       "  </thead>\n",
       "  <tbody>\n",
       "    <tr>\n",
       "      <td id=\"T_9ce41_row0_col0\" class=\"data row0 col0\" >1</td>\n",
       "      <td id=\"T_9ce41_row0_col1\" class=\"data row0 col1\" >32</td>\n",
       "      <td id=\"T_9ce41_row0_col2\" class=\"data row0 col2\" >31.01</td>\n",
       "    </tr>\n",
       "    <tr>\n",
       "      <td id=\"T_9ce41_row1_col0\" class=\"data row1 col0\" >2</td>\n",
       "      <td id=\"T_9ce41_row1_col1\" class=\"data row1 col1\" >36</td>\n",
       "      <td id=\"T_9ce41_row1_col2\" class=\"data row1 col2\" >21.89</td>\n",
       "    </tr>\n",
       "    <tr>\n",
       "      <td id=\"T_9ce41_row2_col0\" class=\"data row2 col0\" >3</td>\n",
       "      <td id=\"T_9ce41_row2_col1\" class=\"data row2 col1\" >25</td>\n",
       "      <td id=\"T_9ce41_row2_col2\" class=\"data row2 col2\" >26.94</td>\n",
       "    </tr>\n",
       "    <tr>\n",
       "      <td id=\"T_9ce41_row3_col0\" class=\"data row3 col0\" >4</td>\n",
       "      <td id=\"T_9ce41_row3_col1\" class=\"data row3 col1\" >27</td>\n",
       "      <td id=\"T_9ce41_row3_col2\" class=\"data row3 col2\" >17.62</td>\n",
       "    </tr>\n",
       "    <tr>\n",
       "      <td id=\"T_9ce41_row4_col0\" class=\"data row4 col0\" >5</td>\n",
       "      <td id=\"T_9ce41_row4_col1\" class=\"data row4 col1\" >40</td>\n",
       "      <td id=\"T_9ce41_row4_col2\" class=\"data row4 col2\" >26.58</td>\n",
       "    </tr>\n",
       "    <tr>\n",
       "      <td id=\"T_9ce41_row5_col0\" class=\"data row5 col0\" >6</td>\n",
       "      <td id=\"T_9ce41_row5_col1\" class=\"data row5 col1\" >33</td>\n",
       "      <td id=\"T_9ce41_row5_col2\" class=\"data row5 col2\" >22.71</td>\n",
       "    </tr>\n",
       "    <tr>\n",
       "      <td id=\"T_9ce41_row6_col0\" class=\"data row6 col0\" >7</td>\n",
       "      <td id=\"T_9ce41_row6_col1\" class=\"data row6 col1\" >17</td>\n",
       "      <td id=\"T_9ce41_row6_col2\" class=\"data row6 col2\" >18.16</td>\n",
       "    </tr>\n",
       "    <tr>\n",
       "      <td id=\"T_9ce41_row7_col0\" class=\"data row7 col0\" >8</td>\n",
       "      <td id=\"T_9ce41_row7_col1\" class=\"data row7 col1\" >38</td>\n",
       "      <td id=\"T_9ce41_row7_col2\" class=\"data row7 col2\" >24.62</td>\n",
       "    </tr>\n",
       "    <tr>\n",
       "      <td id=\"T_9ce41_row8_col0\" class=\"data row8 col0\" >9</td>\n",
       "      <td id=\"T_9ce41_row8_col1\" class=\"data row8 col1\" >32</td>\n",
       "      <td id=\"T_9ce41_row8_col2\" class=\"data row8 col2\" >24.16</td>\n",
       "    </tr>\n",
       "    <tr>\n",
       "      <td id=\"T_9ce41_row9_col0\" class=\"data row9 col0\" >10</td>\n",
       "      <td id=\"T_9ce41_row9_col1\" class=\"data row9 col1\" >36</td>\n",
       "      <td id=\"T_9ce41_row9_col2\" class=\"data row9 col2\" >27.92</td>\n",
       "    </tr>\n",
       "    <tr>\n",
       "      <td id=\"T_9ce41_row10_col0\" class=\"data row10 col0\" >11</td>\n",
       "      <td id=\"T_9ce41_row10_col1\" class=\"data row10 col1\" >33</td>\n",
       "      <td id=\"T_9ce41_row10_col2\" class=\"data row10 col2\" >26.81</td>\n",
       "    </tr>\n",
       "    <tr>\n",
       "      <td id=\"T_9ce41_row11_col0\" class=\"data row11 col0\" >12</td>\n",
       "      <td id=\"T_9ce41_row11_col1\" class=\"data row11 col1\" >28</td>\n",
       "      <td id=\"T_9ce41_row11_col2\" class=\"data row11 col2\" >21.30</td>\n",
       "    </tr>\n",
       "    <tr>\n",
       "      <td id=\"T_9ce41_row12_col0\" class=\"data row12 col0\" >13</td>\n",
       "      <td id=\"T_9ce41_row12_col1\" class=\"data row12 col1\" >23</td>\n",
       "      <td id=\"T_9ce41_row12_col2\" class=\"data row12 col2\" >23.00</td>\n",
       "    </tr>\n",
       "    <tr>\n",
       "      <td id=\"T_9ce41_row13_col0\" class=\"data row13 col0\" >14</td>\n",
       "      <td id=\"T_9ce41_row13_col1\" class=\"data row13 col1\" >47</td>\n",
       "      <td id=\"T_9ce41_row13_col2\" class=\"data row13 col2\" >37.56</td>\n",
       "    </tr>\n",
       "    <tr>\n",
       "      <td id=\"T_9ce41_row14_col0\" class=\"data row14 col0\" >15</td>\n",
       "      <td id=\"T_9ce41_row14_col1\" class=\"data row14 col1\" >37</td>\n",
       "      <td id=\"T_9ce41_row14_col2\" class=\"data row14 col2\" >31.47</td>\n",
       "    </tr>\n",
       "    <tr>\n",
       "      <td id=\"T_9ce41_row15_col0\" class=\"data row15 col0\" >16</td>\n",
       "      <td id=\"T_9ce41_row15_col1\" class=\"data row15 col1\" >27</td>\n",
       "      <td id=\"T_9ce41_row15_col2\" class=\"data row15 col2\" >24.61</td>\n",
       "    </tr>\n",
       "    <tr>\n",
       "      <td id=\"T_9ce41_row16_col0\" class=\"data row16 col0\" >17</td>\n",
       "      <td id=\"T_9ce41_row16_col1\" class=\"data row16 col1\" >32</td>\n",
       "      <td id=\"T_9ce41_row16_col2\" class=\"data row16 col2\" >22.61</td>\n",
       "    </tr>\n",
       "    <tr>\n",
       "      <td id=\"T_9ce41_row17_col0\" class=\"data row17 col0\" >18</td>\n",
       "      <td id=\"T_9ce41_row17_col1\" class=\"data row17 col1\" >26</td>\n",
       "      <td id=\"T_9ce41_row17_col2\" class=\"data row17 col2\" >24.53</td>\n",
       "    </tr>\n",
       "    <tr>\n",
       "      <td id=\"T_9ce41_row18_col0\" class=\"data row18 col0\" >19</td>\n",
       "      <td id=\"T_9ce41_row18_col1\" class=\"data row18 col1\" >41</td>\n",
       "      <td id=\"T_9ce41_row18_col2\" class=\"data row18 col2\" >26.07</td>\n",
       "    </tr>\n",
       "    <tr>\n",
       "      <td id=\"T_9ce41_row19_col0\" class=\"data row19 col0\" >20</td>\n",
       "      <td id=\"T_9ce41_row19_col1\" class=\"data row19 col1\" >39</td>\n",
       "      <td id=\"T_9ce41_row19_col2\" class=\"data row19 col2\" >26.05</td>\n",
       "    </tr>\n",
       "    <tr>\n",
       "      <td id=\"T_9ce41_row20_col0\" class=\"data row20 col0\" >21</td>\n",
       "      <td id=\"T_9ce41_row20_col1\" class=\"data row20 col1\" >45</td>\n",
       "      <td id=\"T_9ce41_row20_col2\" class=\"data row20 col2\" >36.72</td>\n",
       "    </tr>\n",
       "    <tr>\n",
       "      <td id=\"T_9ce41_row21_col0\" class=\"data row21 col0\" >22</td>\n",
       "      <td id=\"T_9ce41_row21_col1\" class=\"data row21 col1\" >22</td>\n",
       "      <td id=\"T_9ce41_row21_col2\" class=\"data row21 col2\" >24.54</td>\n",
       "    </tr>\n",
       "    <tr>\n",
       "      <td id=\"T_9ce41_row22_col0\" class=\"data row22 col0\" >23</td>\n",
       "      <td id=\"T_9ce41_row22_col1\" class=\"data row22 col1\" >35</td>\n",
       "      <td id=\"T_9ce41_row22_col2\" class=\"data row22 col2\" >24.12</td>\n",
       "    </tr>\n",
       "    <tr>\n",
       "      <td id=\"T_9ce41_row23_col0\" class=\"data row23 col0\" >24</td>\n",
       "      <td id=\"T_9ce41_row23_col1\" class=\"data row23 col1\" >33</td>\n",
       "      <td id=\"T_9ce41_row23_col2\" class=\"data row23 col2\" >28.06</td>\n",
       "    </tr>\n",
       "    <tr>\n",
       "      <td id=\"T_9ce41_row24_col0\" class=\"data row24 col0\" >25</td>\n",
       "      <td id=\"T_9ce41_row24_col1\" class=\"data row24 col1\" >48</td>\n",
       "      <td id=\"T_9ce41_row24_col2\" class=\"data row24 col2\" >42.35</td>\n",
       "    </tr>\n",
       "  </tbody>\n",
       "</table>\n"
      ],
      "text/plain": [
       "<pandas.io.formats.style.Styler at 0x26521231b50>"
      ]
     },
     "execution_count": 9,
     "metadata": {},
     "output_type": "execute_result"
    }
   ],
   "source": [
    "## build prediction df for display\n",
    "\n",
    "preds_df = pd.DataFrame()\n",
    "\n",
    "items = list(sales_df.columns.values)\n",
    "items.pop(0)\n",
    "\n",
    "# store the last month's sales for use in the chart below and in the prediction comparison\n",
    "last_month_sales = list(sales_df.iloc[-1])\n",
    "last_month_name = last_month_sales[0]\n",
    "last_month_sales.pop(0)\n",
    "\n",
    "preds_df[\"Item Number\"] = items\n",
    "preds_df[last_month_name + \" Sales\"] = last_month_sales\n",
    "preds_df[\"Next Month Projected\"] = preds\n",
    "\n",
    "preds_df.style.hide(axis='index').format(precision=2)"
   ]
  },
  {
   "cell_type": "markdown",
   "id": "c9670700",
   "metadata": {},
   "source": [
    "# Sales Prediction Comparison\n",
    "The chart below displays the actual sales along side the projected sales. Note also the Mean Absolute Error in the title, which gives an overall indication of the accuracy of the predictions. An acceptable MAE is less than or equal to 6."
   ]
  },
  {
   "cell_type": "code",
   "execution_count": 10,
   "id": "52e35413",
   "metadata": {},
   "outputs": [],
   "source": [
    "# copy the sales_df to a new dataframe\n",
    "last_df = sales_df.copy()\n",
    "last_df = last_df[:-1] # remove the last month's sales (this data was previously stored in last_month_sales)"
   ]
  },
  {
   "cell_type": "code",
   "execution_count": 11,
   "id": "3a185917",
   "metadata": {},
   "outputs": [],
   "source": [
    "# get the predictions from last month by running the prediction function\n",
    "# the predictions are at this time not stored (future improvement)\n",
    "last_preds = make_preds(last_df, 12)"
   ]
  },
  {
   "cell_type": "code",
   "execution_count": 12,
   "id": "b7514a00",
   "metadata": {},
   "outputs": [],
   "source": [
    "# build dataframe for the line graph\n",
    "\n",
    "last_preds_df = pd.DataFrame()\n",
    "last_preds_df[\"Item Number\"] = items\n",
    "last_preds_df[last_month_name + \" Sales\"] = last_month_sales\n",
    "last_preds_df[last_month_name + \" Projected\"] = last_preds\n",
    "\n",
    "\n",
    "mae = mean_absolute_error(last_month_sales, last_preds)"
   ]
  },
  {
   "cell_type": "code",
   "execution_count": 13,
   "id": "9f2b0ea6",
   "metadata": {},
   "outputs": [
    {
     "data": {
      "image/png": "[encoded data removed]",
      "text/plain": [
       "<Figure size 1500x1000 with 1 Axes>"
      ]
     },
     "metadata": {},
     "output_type": "display_data"
    }
   ],
   "source": [
    "# build the line graph from the dataframe\n",
    "\n",
    "sns.set(rc={'figure.figsize':(15,10)}, font_scale=1.2)\n",
    "\n",
    "ax = sns.barplot(data=last_preds_df.melt(id_vars='Item Number', value_name='Units', var_name='Sales'),\n",
    "    x=\"Item Number\", y=\"Units\", hue=\"Sales\").set(\n",
    "    title=f\"Actual vs Predicted Sales for {last_month_name} - MAE: {mae}\",\n",
    "    xlabel=\"Item Number\", ylabel=\"Units Sold\")\n",
    "\n",
    "plt.ylim(0, y_max);"
   ]
  },
  {
   "cell_type": "code",
   "execution_count": null,
   "id": "2e628142",
   "metadata": {},
   "outputs": [],
   "source": []
  }
 ],
 "metadata": {
  "celltoolbar": "Tags",
  "kernelspec": {
   "display_name": "Python 3 (ipykernel)",
   "language": "python",
   "name": "python3"
  },
  "language_info": {
   "codemirror_mode": {
    "name": "ipython",
    "version": 3
   },
   "file_extension": ".py",
   "mimetype": "text/x-python",
   "name": "python",
   "nbconvert_exporter": "python",
   "pygments_lexer": "ipython3",
   "version": "3.11.3"
  }
 },
 "nbformat": 4,
 "nbformat_minor": 5
}
